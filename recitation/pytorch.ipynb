{
 "cells": [
  {
   "cell_type": "code",
   "execution_count": 1,
   "metadata": {},
   "outputs": [],
   "source": [
    "import numpy as np, os, time, torch"
   ]
  },
  {
   "cell_type": "code",
   "execution_count": 7,
   "metadata": {},
   "outputs": [
    {
     "name": "stdout",
     "output_type": "stream",
     "text": [
      "tensor([ 3,  4, 23, 43])\n",
      "<class 'torch.Tensor'>\n"
     ]
    }
   ],
   "source": [
    "#converting from numpy to pytorch tensor\n",
    "def numpy2tensor(a):\n",
    "    return torch.from_numpy(a)\n",
    "\n",
    "print(numpy2tensor(np.array([3, 4,23, 43])))\n",
    "X = np.random.randint(-1000, 1000, size=3000)\n",
    "print(type(numpy2tensor(X)))"
   ]
  },
  {
   "cell_type": "code",
   "execution_count": 9,
   "metadata": {},
   "outputs": [
    {
     "name": "stdout",
     "output_type": "stream",
     "text": [
      "<class 'numpy.ndarray'>\n"
     ]
    }
   ],
   "source": [
    "#converting from pytorch tensor to numpy\n",
    "def tensor2numpy(a):\n",
    "    return a.numpy()\n",
    "\n",
    "a = torch.Tensor([3, 4, 5])\n",
    "print(type(tensor2numpy(a)))"
   ]
  },
  {
   "cell_type": "markdown",
   "metadata": {},
   "source": [
    "### Vectorization - to think more mathematically"
   ]
  },
  {
   "cell_type": "code",
   "execution_count": 11,
   "metadata": {},
   "outputs": [
    {
     "name": "stdout",
     "output_type": "stream",
     "text": [
      "tensor(7082791)\n"
     ]
    }
   ],
   "source": [
    "def PYTORCH_dot(x, y):\n",
    "    return torch.dot(x, y)\n",
    "\n",
    "np.random.seed(0)\n",
    "x = np.random.randint(-1000, 1000, size=3000)\n",
    "y = np.random.randint(-1000, 1000, size=3000)\n",
    "\n",
    "X, Y = torch.from_numpy(x), torch.from_numpy(y)\n",
    "print(PYTORCH_dot(X, Y))"
   ]
  },
  {
   "cell_type": "code",
   "execution_count": 12,
   "metadata": {},
   "outputs": [
    {
     "name": "stdout",
     "output_type": "stream",
     "text": [
      "tensor([[-206348,  -68256,   52140],\n",
      "        [-287973,  -95256,   72765]])\n"
     ]
    }
   ],
   "source": [
    "def PYTORCH_outer(x, y):\n",
    "    return torch.outer(x, y)\n",
    "\n",
    "np.random.seed(0)\n",
    "X = torch.from_numpy(np.random.randint(-1000, 1000, size=2))\n",
    "Y = torch.from_numpy(np.random.randint(-1000, 1000, size=3))\n",
    "print(PYTORCH_outer(X, Y))"
   ]
  },
  {
   "cell_type": "code",
   "execution_count": 13,
   "metadata": {},
   "outputs": [
    {
     "name": "stdout",
     "output_type": "stream",
     "text": [
      "tensor([ 52140, 104517, 477343,  82728])\n"
     ]
    }
   ],
   "source": [
    "def PYTORCH_multiply(x, y):\n",
    "    return torch.mul(x, y)\n",
    "\n",
    "np.random.seed(0)\n",
    "X = torch.from_numpy(np.random.randint(-1000, 1000, size=4))\n",
    "Y = torch.from_numpy(np.random.randint(-1000, 1000, size=4))\n",
    "print(PYTORCH_multiply(X, Y))"
   ]
  },
  {
   "cell_type": "code",
   "execution_count": null,
   "metadata": {},
   "outputs": [
    {
     "name": "stdout",
     "output_type": "stream",
     "text": [
      "tensor(265421520)\n"
     ]
    }
   ],
   "source": [
    "#two vectors containing n items are pairwise multiplied and then the sum is calculated\n",
    "def PYTORCH_sumproduct(x, y):\n",
    "    return torch.sum(torch.outer(x, y))\n",
    "\n",
    "np.random.seed(0)\n",
    "x = torch.from_numpy(np.random.randint(-1000, 1000, size=3000))\n",
    "y = torch.from_numpy(np.random.randint(-1000, 1000, size=3000))\n",
    "\n",
    "print(PYTORCH_sumproduct(x, y))"
   ]
  },
  {
   "cell_type": "code",
   "execution_count": 14,
   "metadata": {},
   "outputs": [
    {
     "name": "stdout",
     "output_type": "stream",
     "text": [
      "tensor([[  0,   0, 653,  ..., 773, 961,   0],\n",
      "        [  0, 456,   0,  ..., 168, 273,   0],\n",
      "        [936, 475,   0,  ..., 408,   0,   0],\n",
      "        ...,\n",
      "        [  0, 396, 457,  ..., 646,   0,   0],\n",
      "        [645, 943,   0,  ..., 863,   0, 790],\n",
      "        [641,   0, 379,  ..., 347,   0,   0]])\n"
     ]
    }
   ],
   "source": [
    "#implement ReLU (rectified linear unit) activation function, it works element wise\n",
    "\n",
    "def PYTORCH_ReLU(x):\n",
    "    return torch.where( x <= 0, 0, x)\n",
    "\n",
    "np.random.seed(0)\n",
    "X = torch.from_numpy(np.random.randint(-1000, 1000, size=(3000, 3000)))\n",
    "print(PYTORCH_ReLU(X))"
   ]
  },
  {
   "cell_type": "code",
   "execution_count": 15,
   "metadata": {},
   "outputs": [
    {
     "name": "stdout",
     "output_type": "stream",
     "text": [
      "tensor([[0, 0, 1,  ..., 1, 1, 0],\n",
      "        [0, 1, 0,  ..., 1, 1, 0],\n",
      "        [1, 1, 0,  ..., 1, 0, 0],\n",
      "        ...,\n",
      "        [0, 1, 1,  ..., 1, 0, 0],\n",
      "        [1, 1, 0,  ..., 1, 0, 1],\n",
      "        [1, 0, 1,  ..., 1, 0, 0]])\n"
     ]
    }
   ],
   "source": [
    "#implement prime relu (derivative of relu)\n",
    "def PYTORCH_PReLU(x):\n",
    "    return torch.where(x <= 0, 0, 1)\n",
    "\n",
    "np.random.seed(0)\n",
    "X = torch.from_numpy(np.random.randint(-1000, 1000, size=(3000, 3000)))\n",
    "print(PYTORCH_PReLU(X))"
   ]
  },
  {
   "cell_type": "markdown",
   "metadata": {},
   "source": [
    "### Tensor manipulation"
   ]
  },
  {
   "cell_type": "code",
   "execution_count": 32,
   "metadata": {},
   "outputs": [
    {
     "name": "stdout",
     "output_type": "stream",
     "text": [
      "tensor([  2,   5, -10,  ...,   1,   3,  -3])\n"
     ]
    }
   ],
   "source": [
    "def PYTORCH_flatten(input_tensor):\n",
    "    #flattens a 3d torch tensor to a 1d array while maintaining the order of elements\n",
    "    return torch.flatten(input_tensor)\n",
    "\n",
    "np.random.seed(0)\n",
    "X = torch.from_numpy(np.random.randint(-10, 10, size=(100, 100, 100)))\n",
    "t = torch.tensor([[[1, 2],\n",
    "                   [3, 4]],\n",
    "                  [[5, 6],\n",
    "                   [7, 8]]])\n",
    "print(PYTORCH_flatten(X))"
   ]
  },
  {
   "cell_type": "code",
   "execution_count": 48,
   "metadata": {},
   "outputs": [
    {
     "name": "stdout",
     "output_type": "stream",
     "text": [
      "torch.Size([100, 100])\n",
      "torch.Size([100, 100, 1])\n"
     ]
    }
   ],
   "source": [
    "def PYTORCH_unsqueeze(X, dim):\n",
    "    #adds a new dimension to a tensor at the specified position 'dim'\n",
    "    return torch.unsqueeze(X, dim)\n",
    "\n",
    "X = torch.from_numpy(np.random.randint(0, 5, size=(100, 100)))\n",
    "print(X.shape)\n",
    "dim = -1\n",
    "Y = torch.unsqueeze(X, dim)\n",
    "print(Y.shape)   # (100, 100, 1)\n",
    "\n"
   ]
  },
  {
   "cell_type": "code",
   "execution_count": 51,
   "metadata": {},
   "outputs": [
    {
     "name": "stdout",
     "output_type": "stream",
     "text": [
      "tensor([[[ 0,  1],\n",
      "         [ 2,  3],\n",
      "         [ 4,  5],\n",
      "         [ 6,  7],\n",
      "         [ 8,  9],\n",
      "         [10, 11]]])\n"
     ]
    }
   ],
   "source": [
    "X = torch.arange(12).reshape(1, 6, 2)\n",
    "print(X)"
   ]
  },
  {
   "cell_type": "code",
   "execution_count": null,
   "metadata": {},
   "outputs": [],
   "source": [
    "#pytoch squeeze: remove the 1d part from the tensor\n",
    "\n",
    "X = np.ranodm.randint(0, 10, size=(1, 5))\n"
   ]
  },
  {
   "cell_type": "code",
   "execution_count": null,
   "metadata": {},
   "outputs": [
    {
     "name": "stdout",
     "output_type": "stream",
     "text": [
      "tensor([0.])\n",
      "tensor([[0., 0.],\n",
      "        [0., 0.]])\n",
      "tensor([[[0., 0., 0., 0.],\n",
      "         [0., 0., 0., 0.],\n",
      "         [0., 0., 0., 0.],\n",
      "         [0., 0., 0., 0.]],\n",
      "\n",
      "        [[0., 0., 0., 0.],\n",
      "         [0., 0., 0., 0.],\n",
      "         [0., 0., 0., 0.],\n",
      "         [0., 0., 0., 0.]]])\n",
      "tensor([[[[0., 0., 0., 0.],\n",
      "          [0., 0., 0., 0.],\n",
      "          [0., 0., 0., 0.],\n",
      "          [0., 0., 0., 0.]],\n",
      "\n",
      "         [[0., 0., 0., 0.],\n",
      "          [0., 0., 0., 0.],\n",
      "          [0., 0., 0., 0.],\n",
      "          [0., 0., 0., 0.]]],\n",
      "\n",
      "\n",
      "        [[[0., 0., 0., 0.],\n",
      "          [0., 0., 0., 0.],\n",
      "          [0., 0., 0., 0.],\n",
      "          [0., 0., 0., 0.]],\n",
      "\n",
      "         [[0., 0., 0., 0.],\n",
      "          [0., 0., 0., 0.],\n",
      "          [0., 0., 0., 0.],\n",
      "          [0., 0., 0., 0.]]],\n",
      "\n",
      "\n",
      "        [[[0., 0., 0., 0.],\n",
      "          [0., 0., 0., 0.],\n",
      "          [0., 0., 0., 0.],\n",
      "          [0., 0., 0., 0.]],\n",
      "\n",
      "         [[0., 0., 0., 0.],\n",
      "          [0., 0., 0., 0.],\n",
      "          [0., 0., 0., 0.],\n",
      "          [0., 0., 0., 0.]]]])\n"
     ]
    }
   ],
   "source": [
    "import torch\n",
    "\n",
    "x = torch.zeros(1)\n",
    "print(x)\n",
    "\n",
    "x = torch.zeros(2, 2)\n",
    "print(x)\n",
    "\n",
    "x = torch.zeros(2, 4, 4)\n",
    "print(x)\n",
    "\n"
   ]
  },
  {
   "cell_type": "code",
   "execution_count": 8,
   "metadata": {},
   "outputs": [
    {
     "name": "stdout",
     "output_type": "stream",
     "text": [
      "tensor([[[[0., 0., 0., 0.],\n",
      "          [0., 0., 0., 0.],\n",
      "          [0., 0., 0., 0.],\n",
      "          [0., 0., 0., 0.]],\n",
      "\n",
      "         [[0., 0., 0., 0.],\n",
      "          [0., 0., 0., 0.],\n",
      "          [0., 0., 0., 0.],\n",
      "          [0., 0., 0., 0.]]],\n",
      "\n",
      "\n",
      "        [[[0., 0., 0., 0.],\n",
      "          [0., 0., 0., 0.],\n",
      "          [0., 0., 0., 0.],\n",
      "          [0., 0., 0., 0.]],\n",
      "\n",
      "         [[0., 0., 0., 0.],\n",
      "          [0., 0., 0., 0.],\n",
      "          [0., 0., 0., 0.],\n",
      "          [0., 0., 0., 0.]]],\n",
      "\n",
      "\n",
      "        [[[0., 0., 0., 0.],\n",
      "          [0., 0., 0., 0.],\n",
      "          [0., 0., 0., 0.],\n",
      "          [0., 0., 0., 0.]],\n",
      "\n",
      "         [[0., 0., 0., 0.],\n",
      "          [0., 0., 0., 0.],\n",
      "          [0., 0., 0., 0.],\n",
      "          [0., 0., 0., 0.]]]])\n"
     ]
    }
   ],
   "source": [
    "x = torch.zeros(3, 2, 4, 4)\n",
    "print(x)"
   ]
  },
  {
   "cell_type": "code",
   "execution_count": 26,
   "metadata": {},
   "outputs": [
    {
     "name": "stdout",
     "output_type": "stream",
     "text": [
      "tensor([[[[-2.0805, -2.7033],\n",
      "          [-1.6046,  1.3446]],\n",
      "\n",
      "         [[-0.0217, -0.0256],\n",
      "          [-0.8206, -0.4508]],\n",
      "\n",
      "         [[ 1.1087,  1.3485],\n",
      "          [ 1.5857,  0.1689]]],\n",
      "\n",
      "\n",
      "        [[[ 1.7894,  0.2217],\n",
      "          [-0.7279,  0.1108]],\n",
      "\n",
      "         [[-0.4670, -0.2568],\n",
      "          [ 1.0891,  0.2854]],\n",
      "\n",
      "         [[-0.7712,  0.8873],\n",
      "          [-1.9952,  1.2856]]],\n",
      "\n",
      "\n",
      "        [[[ 0.4085,  1.0420],\n",
      "          [-0.1110, -0.8652]],\n",
      "\n",
      "         [[-0.0531,  1.4137],\n",
      "          [-1.9205, -2.1909]],\n",
      "\n",
      "         [[-0.9299, -1.5215],\n",
      "          [-1.1589, -0.3033]]],\n",
      "\n",
      "\n",
      "        [[[-1.2249,  0.1332],\n",
      "          [-0.2071,  2.6050]],\n",
      "\n",
      "         [[-1.1788, -0.5180],\n",
      "          [-0.6712, -0.8384]],\n",
      "\n",
      "         [[-0.8135, -1.8554],\n",
      "          [ 0.1834,  0.5981]]],\n",
      "\n",
      "\n",
      "        [[[ 0.8691,  1.1572],\n",
      "          [-1.4452, -0.1084]],\n",
      "\n",
      "         [[-2.0786,  0.4645],\n",
      "          [ 1.2588,  0.9761]],\n",
      "\n",
      "         [[ 0.5306, -0.0735],\n",
      "          [-1.0725, -0.0864]]]])\n",
      "torch.Size([5, 12])\n",
      "tensor([[-2.0805, -2.7033, -1.6046,  1.3446, -0.0217, -0.0256, -0.8206, -0.4508,\n",
      "          1.1087,  1.3485,  1.5857,  0.1689],\n",
      "        [ 1.7894,  0.2217, -0.7279,  0.1108, -0.4670, -0.2568,  1.0891,  0.2854,\n",
      "         -0.7712,  0.8873, -1.9952,  1.2856],\n",
      "        [ 0.4085,  1.0420, -0.1110, -0.8652, -0.0531,  1.4137, -1.9205, -2.1909,\n",
      "         -0.9299, -1.5215, -1.1589, -0.3033],\n",
      "        [-1.2249,  0.1332, -0.2071,  2.6050, -1.1788, -0.5180, -0.6712, -0.8384,\n",
      "         -0.8135, -1.8554,  0.1834,  0.5981],\n",
      "        [ 0.8691,  1.1572, -1.4452, -0.1084, -2.0786,  0.4645,  1.2588,  0.9761,\n",
      "          0.5306, -0.0735, -1.0725, -0.0864]])\n"
     ]
    }
   ],
   "source": [
    "x = torch.randn(5, 3, 2, 2)\n",
    "print(x)\n",
    "\n",
    "flattened = x.flatten(start_dim=1)\n",
    "print(flattened.shape)\n",
    "print(flattened)"
   ]
  },
  {
   "cell_type": "code",
   "execution_count": null,
   "metadata": {},
   "outputs": [],
   "source": [
    "\n"
   ]
  }
 ],
 "metadata": {
  "kernelspec": {
   "display_name": "deeplearning",
   "language": "python",
   "name": "python3"
  },
  "language_info": {
   "codemirror_mode": {
    "name": "ipython",
    "version": 3
   },
   "file_extension": ".py",
   "mimetype": "text/x-python",
   "name": "python",
   "nbconvert_exporter": "python",
   "pygments_lexer": "ipython3",
   "version": "3.12.11"
  }
 },
 "nbformat": 4,
 "nbformat_minor": 2
}
