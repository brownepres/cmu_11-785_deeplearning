{
 "cells": [
  {
   "cell_type": "markdown",
   "metadata": {},
   "source": [
    "## Multi layer perceptron in pytorch"
   ]
  },
  {
   "cell_type": "code",
   "execution_count": 1,
   "metadata": {},
   "outputs": [],
   "source": [
    "import torch, torch.nn as nn, torch.optim as optim, torchvision, torchvision.transforms as transforms"
   ]
  },
  {
   "cell_type": "code",
   "execution_count": 20,
   "metadata": {},
   "outputs": [],
   "source": [
    "#creating class for multi layer perceptron\n",
    "class Network(nn.Module):\n",
    "    def __init__(self, input_size, output_size):\n",
    "        super(Network, self).__init__()\n",
    "\n",
    "        self.layers = nn.Sequential(\n",
    "            nn.Linear(input_size, 128),\n",
    "            nn.ReLU(),\n",
    "            nn.Linear(128, 64), \n",
    "            nn.ReLU(), \n",
    "            nn.Linear(64, output_size)\n",
    "        )\n",
    "\n",
    "    def forward(self, x):\n",
    "        x = x.view(x.size(0), -1)\n",
    "        out = self.layers(x)\n",
    "        return out\n",
    "    \n",
    "net = Network(28*28, 10)\n",
    "criterion = nn.CrossEntropyLoss()\n",
    "optimizer = optim.SGD(net.parameters(), lr=0.01, momentum=0.9)"
   ]
  },
  {
   "cell_type": "code",
   "execution_count": 3,
   "metadata": {},
   "outputs": [
    {
     "name": "stderr",
     "output_type": "stream",
     "text": [
      "100.0%\n",
      "100.0%\n",
      "100.0%\n",
      "100.0%\n"
     ]
    }
   ],
   "source": [
    "transform = transforms.Compose([\n",
    "    transforms.ToTensor(),\n",
    "    transforms.Normalize((0.5,), (0.5,))\n",
    "])\n",
    "\n",
    "trainset = torchvision.datasets.MNIST(root='./data', train=True, download=True, transform=transform)\n",
    "trainloader = torch.utils.data.DataLoader(trainset, batch_size=32, shuffle=True)\n",
    "\n",
    "testset = torchvision.datasets.MNIST(root='./data', train=False, download=True, transform=transform)\n",
    "testloader = torch.utils.data.DataLoader(testset, batch_size=32, shuffle=True)\n",
    "\n",
    "\n"
   ]
  },
  {
   "cell_type": "code",
   "execution_count": 21,
   "metadata": {},
   "outputs": [
    {
     "name": "stdout",
     "output_type": "stream",
     "text": [
      "Epoch: 0, batch: 99 loss: 1.516\n",
      "Epoch: 0, batch: 199 loss: 0.557\n",
      "Epoch: 0, batch: 299 loss: 0.447\n",
      "Epoch: 0, batch: 399 loss: 0.408\n",
      "Epoch: 0, batch: 499 loss: 0.378\n",
      "Epoch: 0, batch: 599 loss: 0.315\n",
      "Epoch: 0, batch: 699 loss: 0.330\n",
      "Epoch: 0, batch: 799 loss: 0.305\n",
      "Epoch: 0, batch: 899 loss: 0.280\n",
      "Epoch: 0, batch: 999 loss: 0.232\n",
      "Epoch: 0, batch: 1099 loss: 0.261\n",
      "Epoch: 0, batch: 1199 loss: 0.243\n",
      "Epoch: 0, batch: 1299 loss: 0.230\n",
      "Epoch: 0, batch: 1399 loss: 0.221\n",
      "Epoch: 0, batch: 1499 loss: 0.220\n",
      "Epoch: 0, batch: 1599 loss: 0.223\n",
      "Epoch: 0, batch: 1699 loss: 0.204\n",
      "Epoch: 0, batch: 1799 loss: 0.216\n",
      "Epoch: 1, batch: 99 loss: 0.178\n",
      "Epoch: 1, batch: 199 loss: 0.169\n",
      "Epoch: 1, batch: 299 loss: 0.174\n",
      "Epoch: 1, batch: 399 loss: 0.177\n",
      "Epoch: 1, batch: 499 loss: 0.180\n",
      "Epoch: 1, batch: 599 loss: 0.185\n",
      "Epoch: 1, batch: 699 loss: 0.154\n",
      "Epoch: 1, batch: 799 loss: 0.176\n",
      "Epoch: 1, batch: 899 loss: 0.150\n",
      "Epoch: 1, batch: 999 loss: 0.151\n",
      "Epoch: 1, batch: 1099 loss: 0.156\n",
      "Epoch: 1, batch: 1199 loss: 0.159\n",
      "Epoch: 1, batch: 1299 loss: 0.151\n",
      "Epoch: 1, batch: 1399 loss: 0.158\n",
      "Epoch: 1, batch: 1499 loss: 0.128\n",
      "Epoch: 1, batch: 1599 loss: 0.133\n",
      "Epoch: 1, batch: 1699 loss: 0.162\n",
      "Epoch: 1, batch: 1799 loss: 0.129\n",
      "Epoch: 2, batch: 99 loss: 0.102\n",
      "Epoch: 2, batch: 199 loss: 0.119\n",
      "Epoch: 2, batch: 299 loss: 0.127\n",
      "Epoch: 2, batch: 399 loss: 0.110\n",
      "Epoch: 2, batch: 499 loss: 0.113\n",
      "Epoch: 2, batch: 599 loss: 0.143\n",
      "Epoch: 2, batch: 699 loss: 0.122\n",
      "Epoch: 2, batch: 799 loss: 0.105\n",
      "Epoch: 2, batch: 899 loss: 0.123\n",
      "Epoch: 2, batch: 999 loss: 0.118\n",
      "Epoch: 2, batch: 1099 loss: 0.097\n",
      "Epoch: 2, batch: 1199 loss: 0.123\n",
      "Epoch: 2, batch: 1299 loss: 0.113\n",
      "Epoch: 2, batch: 1399 loss: 0.114\n",
      "Epoch: 2, batch: 1499 loss: 0.137\n",
      "Epoch: 2, batch: 1599 loss: 0.108\n",
      "Epoch: 2, batch: 1699 loss: 0.107\n",
      "Epoch: 2, batch: 1799 loss: 0.127\n",
      "Epoch: 3, batch: 99 loss: 0.100\n",
      "Epoch: 3, batch: 199 loss: 0.104\n",
      "Epoch: 3, batch: 299 loss: 0.081\n",
      "Epoch: 3, batch: 399 loss: 0.098\n",
      "Epoch: 3, batch: 499 loss: 0.089\n",
      "Epoch: 3, batch: 599 loss: 0.090\n",
      "Epoch: 3, batch: 699 loss: 0.108\n",
      "Epoch: 3, batch: 799 loss: 0.094\n",
      "Epoch: 3, batch: 899 loss: 0.102\n",
      "Epoch: 3, batch: 999 loss: 0.097\n",
      "Epoch: 3, batch: 1099 loss: 0.088\n",
      "Epoch: 3, batch: 1199 loss: 0.082\n",
      "Epoch: 3, batch: 1299 loss: 0.112\n",
      "Epoch: 3, batch: 1399 loss: 0.096\n",
      "Epoch: 3, batch: 1499 loss: 0.097\n",
      "Epoch: 3, batch: 1599 loss: 0.085\n",
      "Epoch: 3, batch: 1699 loss: 0.114\n",
      "Epoch: 3, batch: 1799 loss: 0.103\n",
      "Epoch: 4, batch: 99 loss: 0.073\n",
      "Epoch: 4, batch: 199 loss: 0.091\n",
      "Epoch: 4, batch: 299 loss: 0.084\n",
      "Epoch: 4, batch: 399 loss: 0.097\n",
      "Epoch: 4, batch: 499 loss: 0.082\n",
      "Epoch: 4, batch: 599 loss: 0.071\n",
      "Epoch: 4, batch: 699 loss: 0.071\n",
      "Epoch: 4, batch: 799 loss: 0.080\n",
      "Epoch: 4, batch: 899 loss: 0.090\n",
      "Epoch: 4, batch: 999 loss: 0.082\n",
      "Epoch: 4, batch: 1099 loss: 0.090\n",
      "Epoch: 4, batch: 1199 loss: 0.074\n",
      "Epoch: 4, batch: 1299 loss: 0.069\n",
      "Epoch: 4, batch: 1399 loss: 0.065\n",
      "Epoch: 4, batch: 1499 loss: 0.085\n",
      "Epoch: 4, batch: 1599 loss: 0.083\n",
      "Epoch: 4, batch: 1699 loss: 0.086\n",
      "Epoch: 4, batch: 1799 loss: 0.093\n"
     ]
    }
   ],
   "source": [
    "for epoch in range(5):\n",
    "    running_loss = 0.0\n",
    "    for i, data in enumerate(trainloader):\n",
    "        inputs, labels = data\n",
    "        optimizer.zero_grad()\n",
    "        outputs = net(inputs)\n",
    "        loss = criterion(outputs, labels)\n",
    "        loss.backward()\n",
    "        optimizer.step()\n",
    "\n",
    "        running_loss += loss.item()\n",
    "        if i% 100 == 99:\n",
    "            print(f\"Epoch: {epoch}, batch: {i} loss: {running_loss/100:.3f}\")\n",
    "            running_loss = 0.0"
   ]
  },
  {
   "cell_type": "code",
   "execution_count": null,
   "metadata": {},
   "outputs": [],
   "source": []
  }
 ],
 "metadata": {
  "kernelspec": {
   "display_name": "deeplearning",
   "language": "python",
   "name": "python3"
  },
  "language_info": {
   "codemirror_mode": {
    "name": "ipython",
    "version": 3
   },
   "file_extension": ".py",
   "mimetype": "text/x-python",
   "name": "python",
   "nbconvert_exporter": "python",
   "pygments_lexer": "ipython3",
   "version": "3.12.11"
  }
 },
 "nbformat": 4,
 "nbformat_minor": 2
}
